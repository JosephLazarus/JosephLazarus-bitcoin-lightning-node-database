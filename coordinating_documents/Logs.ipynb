{
 "cells": [
  {
   "cell_type": "markdown",
   "id": "4fbdd2f0",
   "metadata": {},
   "source": [
    "# Docker Logs"
   ]
  },
  {
   "cell_type": "markdown",
   "id": "898517ce",
   "metadata": {},
   "source": [
    " \n",
    "|LOGS FOR |\tCONTAINER NAME|\n",
    "|---------|--------------|\n",
    "|BTCPayServer|\tgenerated_btcpayserver_1|\n",
    "|NBXplorer|\tgenerated_nbxplorer_1|\n",
    "|Bitcoind|\tbtcpayserver_bitcoind|\n",
    "|Postgres|\tgenerated_postgres_1|\n",
    "|proxy|\tletsencrypt-nginx-proxy-companion|\n",
    "|Nginx|\tnginx-gen|\n",
    "|Nginx|\tnginx|\n",
    "|c-lightning|\tbtcpayserver_clightning_bitcoin|\n",
    "|LND|\tbtcpayserver_lnd_bitcoin|\n",
    "|RTL|\tgenerated_lnd_bitcoin_rtl_1|\n",
    "|Thunderhub|\tgenerated_bitcoin_thub_1|\n",
    "|LibrePatron|\tlibrepatron|\n",
    "|Tor|\ttor-gen|\n",
    "|Tor|\ttor|"
   ]
  },
  {
   "cell_type": "markdown",
   "id": "d288dd65",
   "metadata": {},
   "source": [
    "<div class=\"alert alert-block alert-warning\">\n",
    "<b>Example:</b> Run the commands below to print logs by container name. Replace the container name to view other container logs.\n",
    "</div>"
   ]
  },
  {
   "cell_type": "markdown",
   "id": "cc1239e0",
   "metadata": {},
   "source": [
    "`SSH in to the server`\n",
    "```\n",
    "sudo su -\n",
    "```\n",
    "```\n",
    "cd btcpayserver-docker\n",
    "```\n",
    "```\n",
    "docker ps\n",
    "```\n",
    "```\n",
    "docker logs --tail 100 generated_btcpayserver_1\n",
    "```\n"
   ]
  },
  {
   "cell_type": "code",
   "execution_count": null,
   "id": "a35b8d1f",
   "metadata": {},
   "outputs": [],
   "source": []
  },
  {
   "cell_type": "code",
   "execution_count": null,
   "id": "ee608c32",
   "metadata": {},
   "outputs": [],
   "source": []
  },
  {
   "cell_type": "code",
   "execution_count": null,
   "id": "b3ceb285",
   "metadata": {},
   "outputs": [],
   "source": []
  },
  {
   "cell_type": "code",
   "execution_count": null,
   "id": "5b252fc1",
   "metadata": {},
   "outputs": [],
   "source": []
  },
  {
   "cell_type": "code",
   "execution_count": null,
   "id": "32c61424",
   "metadata": {},
   "outputs": [],
   "source": []
  },
  {
   "cell_type": "code",
   "execution_count": null,
   "id": "4954703d",
   "metadata": {},
   "outputs": [],
   "source": []
  },
  {
   "cell_type": "code",
   "execution_count": null,
   "id": "75df4fb5",
   "metadata": {},
   "outputs": [],
   "source": []
  },
  {
   "cell_type": "code",
   "execution_count": null,
   "id": "da9497e7",
   "metadata": {},
   "outputs": [],
   "source": []
  }
 ],
 "metadata": {
  "kernelspec": {
   "display_name": "Python 3",
   "language": "python",
   "name": "python3"
  },
  "language_info": {
   "codemirror_mode": {
    "name": "ipython",
    "version": 3
   },
   "file_extension": ".py",
   "mimetype": "text/x-python",
   "name": "python",
   "nbconvert_exporter": "python",
   "pygments_lexer": "ipython3",
   "version": "3.8.8"
  }
 },
 "nbformat": 4,
 "nbformat_minor": 5
}
