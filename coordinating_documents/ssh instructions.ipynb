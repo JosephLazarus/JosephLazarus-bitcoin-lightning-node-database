{
 "cells": [
  {
   "cell_type": "markdown",
   "id": "b401bf85",
   "metadata": {},
   "source": [
    "#  SSH Instructions"
   ]
  },
  {
   "cell_type": "markdown",
   "id": "657bedb0",
   "metadata": {},
   "source": [
    "###  Open your favorite command line interface and type"
   ]
  },
  {
   "cell_type": "markdown",
   "id": "d86e3fd4",
   "metadata": {},
   "source": [
    "<p> ssh -i (insert ssh key) ubuntu@btcpay983737.lndyn.com </p> \n",
    "\n",
    "<p> type ssh passphrase </p>"
   ]
  }
 ],
 "metadata": {
  "kernelspec": {
   "display_name": "Python 3",
   "language": "python",
   "name": "python3"
  },
  "language_info": {
   "codemirror_mode": {
    "name": "ipython",
    "version": 3
   },
   "file_extension": ".py",
   "mimetype": "text/x-python",
   "name": "python",
   "nbconvert_exporter": "python",
   "pygments_lexer": "ipython3",
   "version": "3.8.8"
  }
 },
 "nbformat": 4,
 "nbformat_minor": 5
}
