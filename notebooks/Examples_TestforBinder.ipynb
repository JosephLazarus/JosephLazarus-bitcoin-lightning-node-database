{
 "cells": [
  {
   "cell_type": "markdown",
   "metadata": {},
   "source": [
    "# 1. Basic examples"
   ]
  },
  {
   "cell_type": "markdown",
   "metadata": {},
   "source": [
    "## Prepare LN data\n",
    "\n",
    "In order to run the simulation you need to provide LN snapshots as well as information about merchants nodes. In this notebooks you can try our LN traffic simulator on a small sample data. **If you want to use the full data set related to our work then please follow the instructions in the [documentation](https://lnsimulator.readthedocs.io/en/latest/getting_started.html#data).**\n",
    "\n",
    "### LN snapshots\n",
    "\n",
    "The network structure is fed to `lnsimulator` in the form of LN snapshots. Raw JSON files as well as preprocessed payment channel data can be used as input."
   ]
  },
  {
   "cell_type": "markdown",
   "metadata": {},
   "source": [
    "#### Load data from JSON file"
   ]
  },
  {
   "cell_type": "code",
   "execution_count": 4,
   "metadata": {},
   "outputs": [],
   "source": [
    "import sys\n",
    "sys.path.append('../')\n",
    "from lnsimulator.ln_utils import preprocess_json_file"
   ]
  },
  {
   "cell_type": "code",
   "execution_count": 5,
   "metadata": {},
   "outputs": [
    {
     "name": "stdout",
     "output_type": "stream",
     "text": [
      "\n",
      "i.) Load data\n",
      "/Users/puri/DataScience@SMU/04.DS7330 File Org. and DB Management/TermProjectfiles/LNTrafficSimulator/sample_data/sample.json 2844 22460\n",
      "All edges: 22460\n",
      "All edges without loops: 22460\n",
      "2844 22460\n",
      "Remove records with missing node policy\n",
      "node1_pub       0.000000\n",
      "node2_pub       0.000000\n",
      "last_update     0.000000\n",
      "capacity        0.000000\n",
      "channel_id      0.000000\n",
      "node1_policy    0.000312\n",
      "node2_policy    0.000134\n",
      "snapshot_id     0.000000\n",
      "dtype: float64\n",
      "10\n",
      "\n",
      "ii.) Transform undirected graph into directed graph\n"
     ]
    },
    {
     "name": "stderr",
     "output_type": "stream",
     "text": [
      "100%|██████████| 22450/22450 [00:07<00:00, 3057.52it/s]\n"
     ]
    },
    {
     "name": "stdout",
     "output_type": "stream",
     "text": [
      "\n",
      "iii.) Fill missing policy values with most frequent values\n",
      "missing values for columns:\n",
      "snapshot_id            0\n",
      "src                    0\n",
      "trg                    0\n",
      "last_update            0\n",
      "channel_id             0\n",
      "capacity               0\n",
      "disabled               0\n",
      "fee_base_msat          0\n",
      "fee_rate_milli_msat    0\n",
      "min_htlc               0\n",
      "dtype: int64\n"
     ]
    }
   ],
   "source": [
    "data_dir = \"/Users/puri/DataScience@SMU/04.DS7330 File Org. and DB Management/TermProjectfiles/LNTrafficSimulator/sample_data\"\n",
    "directed_edges = preprocess_json_file(\"%s/sample.json\" % data_dir)"
   ]
  },
  {
   "cell_type": "markdown",
   "metadata": {},
   "source": [
    "### Merchants\n",
    "\n",
    "We provided the list of LN merchants that we used in our experiments. This merchant information was collected in early 2019."
   ]
  },
  {
   "cell_type": "code",
   "execution_count": 6,
   "metadata": {},
   "outputs": [],
   "source": [
    "import pandas as pd\n",
    "node_meta = pd.read_csv(\"%s/1ml_meta_data.csv\" % data_dir)\n",
    "providers = list(node_meta[\"pub_key\"])"
   ]
  },
  {
   "cell_type": "markdown",
   "metadata": {},
   "source": [
    "## Configuration\n",
    "\n",
    "First we give you the list of main parameters.\n",
    "\n",
    "| Parameter | Description |\n",
    "|     :---      |   :---   |\n",
    "| `amount` |  value of each simulated transaction in satoshis  |\n",
    "| `count`  | number of random transactions to sample  |\n",
    "| `epsilon` |  ratio of merchants among transactions endpoints  |\n",
    "| `drop_disabled` | drop temporarily disabled channels |\n",
    "| `drop_low_cap` | drop channels with capacity less than `amount` |\n",
    "| `with_depletion` | the available channel capacity is maintained for both endpoints |\n",
    "\n",
    "You can initialize the traffic simulator by providing the network structure, merchants information and the former parameters."
   ]
  },
  {
   "cell_type": "code",
   "execution_count": 7,
   "metadata": {},
   "outputs": [],
   "source": [
    "import lnsimulator.simulator.transaction_simulator as ts\n",
    "\n",
    "amount = 60000\n",
    "count = 7000\n",
    "epsilon = 0.8\n",
    "drop_disabled = True\n",
    "drop_low_cap = True\n",
    "with_depletion = True\n",
    "\n",
    "simulator = ts.TransactionSimulator(directed_edges, providers, amount, count, drop_disabled=drop_disabled, drop_low_cap=drop_low_cap, epsilon=epsilon, with_depletion=with_depletion)"
   ]
  },
  {
   "cell_type": "markdown",
   "metadata": {},
   "source": [
    "## Estimating daily income and traffic\n",
    "\n",
    "### i.) Transactions\n",
    "\n",
    "The simulator samples a set of random transactions (during the initialization) that will be used for the estimation of daily node traffic and routing income. You can access the sampled transactions in the form of a `pandas.DataFrame`."
   ]
  },
  {
   "cell_type": "code",
   "execution_count": 8,
   "metadata": {},
   "outputs": [
    {
     "name": "stdout",
     "output_type": "stream",
     "text": [
      "   transaction_id                                             source  \\\n",
      "0               0  03e0a26dca5f4d4dea43ba104d41e4f54b6b66c5b25598...   \n",
      "1               1  02626318f968469fb1dcd0453536bbabaab8861be75d8c...   \n",
      "2               2  02450500fa04c03e76ce1f01d5338006111bf5347fabfc...   \n",
      "3               3  02c8d0eef6feed8479662070608b76f5bb3527a891e9f0...   \n",
      "4               4  02098684c9d7a9ec27071faf09f1442c228a8778c01903...   \n",
      "\n",
      "                                              target  amount_SAT  \n",
      "0  031f8400b123834edd5736de9aac14ec0d77c11bff27f5...       60000  \n",
      "1  02868e12f320073cad0c2959c42559fbcfd1aa326fcb94...       60000  \n",
      "2  03b6cad4d044d42e9d9537650dd4a84806733dd00013f8...       60000  \n",
      "3  021607cfce19a4c5e7e6e738663dfafbbbac262e4ff76c...       60000  \n",
      "4  021d9deaf090a021c6e464e3becc5296161e8aaf5de3c7...       60000  \n",
      "(6998, 4)\n"
     ]
    }
   ],
   "source": [
    "transactions = simulator.transactions\n",
    "print(transactions.head())\n",
    "print(transactions.shape)"
   ]
  },
  {
   "cell_type": "markdown",
   "metadata": {},
   "source": [
    "### ii.) Run simulation\n",
    "\n",
    "In this step the simulator searches for cheapest payment paths from transaction senders to its receivers. Channel capacity changes are well maintained during the simulation. "
   ]
  },
  {
   "cell_type": "code",
   "execution_count": 9,
   "metadata": {},
   "outputs": [
    {
     "name": "stdout",
     "output_type": "stream",
     "text": [
      "Graph and capacities were INITIALIZED\n",
      "Transactions simulated on original graph STARTED..\n",
      "Transactions simulated on original graph DONE\n",
      "Transaction succes rate:\n",
      "True     0.591883\n",
      "False    0.408117\n",
      "Name: success, dtype: float64\n"
     ]
    }
   ],
   "source": [
    "cheapest_paths, _, all_router_fees, _ = simulator.simulate(weight=\"total_fee\", with_node_removals=False)"
   ]
  },
  {
   "cell_type": "markdown",
   "metadata": {},
   "source": [
    "### iii.) Results\n",
    "\n",
    "After payment simulation you can export the results as well as calculate traffic and income statistics for LN nodes."
   ]
  },
  {
   "cell_type": "code",
   "execution_count": 10,
   "metadata": {},
   "outputs": [
    {
     "name": "stdout",
     "output_type": "stream",
     "text": [
      "Export DONE\n"
     ]
    }
   ],
   "source": [
    "output_dir = \"test\"\n",
    "total_income, total_fee = simulator.export(output_dir)"
   ]
  },
  {
   "cell_type": "markdown",
   "metadata": {},
   "source": [
    "In order to get stable daily LN node statistics, we recommend to run the simulator for multiple times over several consecutive snapshots. **Node statistics in each output file below are restricted to a single traffic simulator experiment!** You can find these file in the `output_dir` folder.\n",
    "\n",
    "#### a.) lengths_distrib.csv\n",
    "\n",
    "Distribution of payment path length for the sampled transactions. Due to the source routing nature of LN, we assumed that transactions are executed on the cheapest path between the sender and the recipient.\n",
    "\n",
    "| Column | Description |\n",
    "|     :---      |   :---   |\n",
    "| First | Payment path length |\n",
    "| Second | Number of sampled transactions with given length |\n",
    "\n",
    "**Note:** the length is marked -1 if the payment failed (there was no available path for routing)\n",
    "\n",
    "**Note:** the sum of transactions in the second column could be less then the predefined number of payments to simulate. The difference is the number of randomly sampled loop transactions with identical sender and recipient node.\n",
    "\n",
    "#### b.) router_incomes.csv\n",
    "\n",
    "Contains statistics on nodes that forwarded payments in the simulation. We refer to these nodes as **routers**.\n",
    "\n",
    "| Column | Description |\n",
    "|     :---      |   :---   |\n",
    "| node | LN node public key |\n",
    "| fee | routing income |\n",
    "| num_trans | number of routed transactions |\n",
    "\n",
    "#### c.) source_fees.csv\n",
    "\n",
    "Contains statistics on payment initiator nodes (senders).\n",
    "\n",
    "| Column | Description |\n",
    "|     :---      |   :---   |\n",
    "| source | LN node that initiated the payment (sender node) |\n",
    "| num_trans | the number of transactions initiated by this node in the simulation |\n",
    "| mean_fee | the mean transaction cost per payment |"
   ]
  },
  {
   "cell_type": "markdown",
   "metadata": {},
   "source": [
    "## Useful function calls\n",
    "\n",
    "There are alternative ways to interact with the simulator object beside exporting the results (with the `simulator.export(output_dir)` function). Please follow the examples below."
   ]
  },
  {
   "cell_type": "markdown",
   "metadata": {},
   "source": [
    "#### Top nodes with highest daily income\n",
    "\n",
    "You can search for the identity of these nodes on [1ml.com](https://1ml.com)."
   ]
  },
  {
   "cell_type": "code",
   "execution_count": 11,
   "metadata": {},
   "outputs": [
    {
     "data": {
      "text/html": [
       "<div>\n",
       "<style scoped>\n",
       "    .dataframe tbody tr th:only-of-type {\n",
       "        vertical-align: middle;\n",
       "    }\n",
       "\n",
       "    .dataframe tbody tr th {\n",
       "        vertical-align: top;\n",
       "    }\n",
       "\n",
       "    .dataframe thead th {\n",
       "        text-align: right;\n",
       "    }\n",
       "</style>\n",
       "<table border=\"1\" class=\"dataframe\">\n",
       "  <thead>\n",
       "    <tr style=\"text-align: right;\">\n",
       "      <th></th>\n",
       "      <th>fee</th>\n",
       "      <th>num_trans</th>\n",
       "    </tr>\n",
       "    <tr>\n",
       "      <th>node</th>\n",
       "      <th></th>\n",
       "      <th></th>\n",
       "    </tr>\n",
       "  </thead>\n",
       "  <tbody>\n",
       "    <tr>\n",
       "      <th>03e50492eab4107a773141bb419e107bda3de3d55652e6e1a41225f06a0bbf2d56</th>\n",
       "      <td>4681.0</td>\n",
       "      <td>31</td>\n",
       "    </tr>\n",
       "    <tr>\n",
       "      <th>0232e20e7b68b9b673fb25f48322b151a93186bffe4550045040673797ceca43cf</th>\n",
       "      <td>2404.0</td>\n",
       "      <td>4</td>\n",
       "    </tr>\n",
       "    <tr>\n",
       "      <th>0279c22ed7a068d10dc1a38ae66d2d6461e269226c60258c021b1ddcdfe4b00bc4</th>\n",
       "      <td>1980.0</td>\n",
       "      <td>33</td>\n",
       "    </tr>\n",
       "    <tr>\n",
       "      <th>032679fec1213e5b0a23e066c019d7b991b95c6e4d28806b9ebd1362f9e32775cf</th>\n",
       "      <td>1586.0</td>\n",
       "      <td>52</td>\n",
       "    </tr>\n",
       "    <tr>\n",
       "      <th>03fb822818be083e0a954db85257a2911a3d55458b8c1ea4124b157e865a836d12</th>\n",
       "      <td>823.5</td>\n",
       "      <td>27</td>\n",
       "    </tr>\n",
       "  </tbody>\n",
       "</table>\n",
       "</div>"
      ],
      "text/plain": [
       "                                                       fee  num_trans\n",
       "node                                                                 \n",
       "03e50492eab4107a773141bb419e107bda3de3d55652e6e...  4681.0         31\n",
       "0232e20e7b68b9b673fb25f48322b151a93186bffe45500...  2404.0          4\n",
       "0279c22ed7a068d10dc1a38ae66d2d6461e269226c60258...  1980.0         33\n",
       "032679fec1213e5b0a23e066c019d7b991b95c6e4d28806...  1586.0         52\n",
       "03fb822818be083e0a954db85257a2911a3d55458b8c1ea...   823.5         27"
      ]
     },
     "execution_count": 11,
     "metadata": {},
     "output_type": "execute_result"
    }
   ],
   "source": [
    "total_income.sort_values(\"fee\", ascending=False).set_index(\"node\").head(5)"
   ]
  },
  {
   "cell_type": "markdown",
   "metadata": {},
   "source": [
    "#### Top nodes with highest daily traffic"
   ]
  },
  {
   "cell_type": "code",
   "execution_count": 12,
   "metadata": {},
   "outputs": [
    {
     "data": {
      "text/html": [
       "<div>\n",
       "<style scoped>\n",
       "    .dataframe tbody tr th:only-of-type {\n",
       "        vertical-align: middle;\n",
       "    }\n",
       "\n",
       "    .dataframe tbody tr th {\n",
       "        vertical-align: top;\n",
       "    }\n",
       "\n",
       "    .dataframe thead th {\n",
       "        text-align: right;\n",
       "    }\n",
       "</style>\n",
       "<table border=\"1\" class=\"dataframe\">\n",
       "  <thead>\n",
       "    <tr style=\"text-align: right;\">\n",
       "      <th></th>\n",
       "      <th>fee</th>\n",
       "      <th>num_trans</th>\n",
       "    </tr>\n",
       "    <tr>\n",
       "      <th>node</th>\n",
       "      <th></th>\n",
       "      <th></th>\n",
       "    </tr>\n",
       "  </thead>\n",
       "  <tbody>\n",
       "    <tr>\n",
       "      <th>02ad6fb8d693dc1e4569bcedefadf5f72a931ae027dc0f0c544b34c1c6f3b9a02b</th>\n",
       "      <td>71.4605</td>\n",
       "      <td>1190</td>\n",
       "    </tr>\n",
       "    <tr>\n",
       "      <th>03bb88ccc444534da7b5b64b4f7b15e1eccb18e102db0e400d4b9cfe93763aa26d</th>\n",
       "      <td>79.2800</td>\n",
       "      <td>813</td>\n",
       "    </tr>\n",
       "    <tr>\n",
       "      <th>03ee180e8ee07f1f9c9987d98b5d5decf6bad7d058bdd8be3ad97c8e0dd2cdc7ba</th>\n",
       "      <td>27.2600</td>\n",
       "      <td>446</td>\n",
       "    </tr>\n",
       "    <tr>\n",
       "      <th>0331f80652fb840239df8dc99205792bba2e559a05469915804c08420230e23c7c</th>\n",
       "      <td>349.8000</td>\n",
       "      <td>330</td>\n",
       "    </tr>\n",
       "    <tr>\n",
       "      <th>03a76b80027d7c067e0da77da95880faaf89e9bf87b73a7d57bd4a3f2a124b764f</th>\n",
       "      <td>14.5200</td>\n",
       "      <td>242</td>\n",
       "    </tr>\n",
       "  </tbody>\n",
       "</table>\n",
       "</div>"
      ],
      "text/plain": [
       "                                                         fee  num_trans\n",
       "node                                                                   \n",
       "02ad6fb8d693dc1e4569bcedefadf5f72a931ae027dc0f0...   71.4605       1190\n",
       "03bb88ccc444534da7b5b64b4f7b15e1eccb18e102db0e4...   79.2800        813\n",
       "03ee180e8ee07f1f9c9987d98b5d5decf6bad7d058bdd8b...   27.2600        446\n",
       "0331f80652fb840239df8dc99205792bba2e559a0546991...  349.8000        330\n",
       "03a76b80027d7c067e0da77da95880faaf89e9bf87b73a7...   14.5200        242"
      ]
     },
     "execution_count": 12,
     "metadata": {},
     "output_type": "execute_result"
    }
   ],
   "source": [
    "total_income.sort_values(\"num_trans\", ascending=False).set_index(\"node\").head(5)"
   ]
  },
  {
   "cell_type": "markdown",
   "metadata": {},
   "source": [
    "#### Payment path length distribution\n",
    "\n",
    "**Note:** the length is marked -1 if the payment failed (there was no available path for routing)"
   ]
  },
  {
   "cell_type": "code",
   "execution_count": 13,
   "metadata": {},
   "outputs": [
    {
     "data": {
      "text/plain": [
       "-1     2695\n",
       " 3     1636\n",
       " 2     1341\n",
       " 4      785\n",
       " 5      261\n",
       " 1      215\n",
       " 6       85\n",
       " 7       28\n",
       " 8        4\n",
       " 10       1\n",
       " 9        1\n",
       "Name: length, dtype: int64"
      ]
     },
     "execution_count": 13,
     "metadata": {},
     "output_type": "execute_result"
    }
   ],
   "source": [
    "cheapest_paths[\"length\"].value_counts()"
   ]
  },
  {
   "cell_type": "markdown",
   "metadata": {},
   "source": [
    "#### Payment succes ratio"
   ]
  },
  {
   "cell_type": "code",
   "execution_count": 14,
   "metadata": {},
   "outputs": [
    {
     "data": {
      "text/plain": [
       "True     0.617839\n",
       "False    0.382161\n",
       "Name: length, dtype: float64"
      ]
     },
     "execution_count": 14,
     "metadata": {},
     "output_type": "execute_result"
    }
   ],
   "source": [
    "(cheapest_paths[\"length\"] > -1).value_counts() / len(cheapest_paths)"
   ]
  },
  {
   "cell_type": "markdown",
   "metadata": {},
   "source": [
    "#### Payment cost statistics"
   ]
  },
  {
   "cell_type": "code",
   "execution_count": 15,
   "metadata": {},
   "outputs": [
    {
     "data": {
      "text/plain": [
       "count    4357.000000\n",
       "mean        5.720739\n",
       "std        24.856801\n",
       "min         0.000000\n",
       "25%         0.220000\n",
       "50%         1.120000\n",
       "75%         2.120000\n",
       "max       661.060000\n",
       "Name: original_cost, dtype: float64"
      ]
     },
     "execution_count": 15,
     "metadata": {},
     "output_type": "execute_result"
    }
   ],
   "source": [
    "cheapest_paths[\"original_cost\"].describe()"
   ]
  },
  {
   "cell_type": "markdown",
   "metadata": {},
   "source": [
    "#### Most frequent payment receivers"
   ]
  },
  {
   "cell_type": "code",
   "execution_count": 16,
   "metadata": {},
   "outputs": [
    {
     "data": {
      "text/plain": [
       "02cdf83ef8e45908b1092125d25c68dcec7751ca8d39f557775cd842e5bc127469    416\n",
       "0217890e3aad8d35bc054f43acc00084b25229ecff0ab68debd82883ad65ee8266    298\n",
       "021607cfce19a4c5e7e6e738663dfafbbbac262e4ff76c2c9b30dbeefc35c00643    289\n",
       "0232e20e7b68b9b673fb25f48322b151a93186bffe4550045040673797ceca43cf    235\n",
       "038ddc73e450a4bfb52992b35be8b0f52e1a1b4726ff319249a3314a508b616cde    228\n",
       "Name: target, dtype: int64"
      ]
     },
     "execution_count": 16,
     "metadata": {},
     "output_type": "execute_result"
    }
   ],
   "source": [
    "simulator.transactions[\"target\"].value_counts().head(5)"
   ]
  },
  {
   "cell_type": "markdown",
   "metadata": {},
   "source": [
    "#### Number of unique payment senders and receivers"
   ]
  },
  {
   "cell_type": "code",
   "execution_count": 17,
   "metadata": {},
   "outputs": [
    {
     "data": {
      "text/plain": [
       "(2463, 1172)"
      ]
     },
     "execution_count": 17,
     "metadata": {},
     "output_type": "execute_result"
    }
   ],
   "source": [
    "simulator.transactions[\"source\"].nunique(), simulator.transactions[\"target\"].nunique()"
   ]
  },
  {
   "cell_type": "markdown",
   "metadata": {},
   "source": [
    "# 2. Advanced examples"
   ]
  },
  {
   "cell_type": "markdown",
   "metadata": {},
   "source": [
    "## Parameters explained\n",
    "\n",
    "Here is the list of main parameters. **By the word \"transaction\" we refer to LN payments.**\n",
    "\n",
    "| Parameter | Description | Default value |\n",
    "|     :---      |   :---   | :---\n",
    "| `amount` |  value of each simulated transaction in satoshis  | **Must be set** |\n",
    "| `count`  | number of random transactions to sample  | **Must be set** |\n",
    "| `epsilon` |  ratio of merchants among transactions endpoints  | 0.8 |\n",
    "| `drop_disabled` | drop temporarily disabled channels | True |\n",
    "| `drop_low_cap` | drop channels with capacity less than `amount` | True |\n",
    "| `with_depletion` | the available channel capacity is maintained for both endpoints | True |\n",
    "\n",
    "The following examples will help you to understand the effect of each parameter. As `amount` and `count` are very straightforward parameters we will start with how to set merchant ratio for payment receivers."
   ]
  },
  {
   "cell_type": "markdown",
   "metadata": {},
   "source": [
    "### Merchant ratio for payment receivers\n",
    "\n",
    "The number of unique receivers is the highest when **receivers sampled uniformly at random** (`epsilon=0.0`) while you have the chance to send payments **only to merchants** (`epsilon=1.0`). In most of our experiments we sample merchant receivers with high probability (`epsilon=0.8`) but we also select random receivers as well with small probability."
   ]
  },
  {
   "cell_type": "code",
   "execution_count": 18,
   "metadata": {},
   "outputs": [
    {
     "name": "stdout",
     "output_type": "stream",
     "text": [
      "124\n",
      "1183\n",
      "2461\n"
     ]
    }
   ],
   "source": [
    "only_merchant_receivers = ts.TransactionSimulator(directed_edges, providers, amount, count, epsilon=1.0)\n",
    "many_merchant_receivers = ts.TransactionSimulator(directed_edges, providers, amount, count, epsilon=0.8)\n",
    "uniform_receivers = ts.TransactionSimulator(directed_edges, providers, amount, count, epsilon=0.0)\n",
    "print(only_merchant_receivers.transactions[\"target\"].nunique())\n",
    "print(many_merchant_receivers.transactions[\"target\"].nunique())\n",
    "print(uniform_receivers.transactions[\"target\"].nunique())"
   ]
  },
  {
   "cell_type": "markdown",
   "metadata": {},
   "source": [
    "### Control channel exclusion with `drop_disabled` and `drop_low_cap`\n",
    "\n",
    "Channels can be temporarily disabled for a given snapshot while active for others. If you want to **enable disabled channels** in your experiments then use `drop_disabled=False`. But "
   ]
  },
  {
   "cell_type": "code",
   "execution_count": 19,
   "metadata": {},
   "outputs": [
    {
     "name": "stdout",
     "output_type": "stream",
     "text": [
      "(31539, 4)\n",
      "(38044, 4)\n"
     ]
    }
   ],
   "source": [
    "default_sim = ts.TransactionSimulator(directed_edges, providers, amount, count, drop_disabled=True, drop_low_cap=True)\n",
    "with_disabled_sim = ts.TransactionSimulator(directed_edges, providers, amount, count, drop_disabled=False, drop_low_cap=True)\n",
    "print(default_sim.edges.shape)\n",
    "print(with_disabled_sim.edges.shape)"
   ]
  },
  {
   "cell_type": "markdown",
   "metadata": {},
   "source": [
    "A payment can only be forwarded on a given channel if the channel capacity is at least the value of the payment (`drop_low_cap=True`). But in the simulation you have the possibility to disabled this condition (`drop_low_cap=False`)."
   ]
  },
  {
   "cell_type": "code",
   "execution_count": 20,
   "metadata": {},
   "outputs": [
    {
     "name": "stdout",
     "output_type": "stream",
     "text": [
      "(41800, 4)\n"
     ]
    }
   ],
   "source": [
    "with_lowcap_sim = ts.TransactionSimulator(directed_edges, providers, amount, count, drop_disabled=False, drop_low_cap=False)\n",
    "print(with_lowcap_sim.edges.shape)"
   ]
  },
  {
   "cell_type": "markdown",
   "metadata": {},
   "source": [
    "### Updating node balances with payments\n",
    "\n",
    "Individual balances of LN nodes is a private data but `lnsimulator` can **keep track of capacity imbalances** (`with_depletion=True`) as payments are executed on the fly. After distributing capacities randomly between related channel endpoints (initialization step), our simulator can monitor whether a node has enough outbound capacity on a given channel to forward the upcoming payment with respect to the payment value. This feature has several advantages:\n",
    "\n",
    "- ability to detect node capacity depletions in case of heavy one-way traffic\n",
    "- better understanding of payment failures\n",
    "\n",
    "In case you disable this feature (`with_depletion=False`) payments can pass a channel in a fixed direction infinitely many times as long as the payment value is at most the channel capacity.\n",
    "\n",
    "In the next example we observe the payment failure ratio with respect to the `with_depletio` parameter."
   ]
  },
  {
   "cell_type": "code",
   "execution_count": 21,
   "metadata": {},
   "outputs": [
    {
     "name": "stdout",
     "output_type": "stream",
     "text": [
      "Graph and capacities were INITIALIZED\n",
      "Transactions simulated on original graph STARTED..\n",
      "Transactions simulated on original graph DONE\n",
      "Transaction succes rate:\n",
      "True     0.601915\n",
      "False    0.398085\n",
      "Name: success, dtype: float64\n"
     ]
    }
   ],
   "source": [
    "sim_with_dep = ts.TransactionSimulator(directed_edges, providers, amount, count, with_depletion=True)\n",
    "_, _, _, _ = sim_with_dep.simulate(weight=\"total_fee\")"
   ]
  },
  {
   "cell_type": "code",
   "execution_count": 22,
   "metadata": {},
   "outputs": [
    {
     "name": "stdout",
     "output_type": "stream",
     "text": [
      "Graph and capacities were INITIALIZED\n",
      "Transactions simulated on original graph STARTED..\n",
      "Transactions simulated on original graph DONE\n",
      "Transaction succes rate:\n",
      "True     0.672717\n",
      "False    0.327283\n",
      "Name: success, dtype: float64\n"
     ]
    }
   ],
   "source": [
    "sim_wout_dep = ts.TransactionSimulator(directed_edges, providers, amount, count, with_depletion=False)\n",
    "_, _, _, _ = sim_wout_dep.simulate(weight=\"total_fee\")"
   ]
  },
  {
   "cell_type": "markdown",
   "metadata": {},
   "source": [
    "Transaction success rates are lower if capacity depletion is enabled (`with_depletion=True`). This indicates that **there are channels with heavy one-way traffic**."
   ]
  },
  {
   "cell_type": "code",
   "execution_count": 23,
   "metadata": {},
   "outputs": [
    {
     "name": "stdout",
     "output_type": "stream",
     "text": [
      "Succes rate with depletions: 0.601915380217267\n",
      "Succes rate without depletions: 0.6727168786622838\n"
     ]
    }
   ],
   "source": [
    "print(\"Succes rate with depletions:\", sim_with_dep.transactions[\"success\"].mean())\n",
    "print(\"Succes rate without depletions:\", sim_wout_dep.transactions[\"success\"].mean())"
   ]
  },
  {
   "cell_type": "markdown",
   "metadata": {},
   "source": [
    "## Advanced simulation features\n",
    "\n",
    "In the past experiment after initializing your simulator the `simulate()` function executed cheapest path routing by default without modifying the available channel data. Now let's see some additional use cases."
   ]
  },
  {
   "cell_type": "code",
   "execution_count": 24,
   "metadata": {},
   "outputs": [],
   "source": [
    "sim = ts.TransactionSimulator(directed_edges, providers, amount, count)"
   ]
  },
  {
   "cell_type": "markdown",
   "metadata": {},
   "source": [
    "### Routing algorithm\n",
    "\n",
    "For now you can choose between two routing algorithms by setting the `weight` parameter\n",
    "\n",
    "- **cheapest path** routing (`weight=\"total_fee\"` - DEFAULT SETTING)\n",
    "- **shortest path** routing (`weight=None`)"
   ]
  },
  {
   "cell_type": "code",
   "execution_count": 25,
   "metadata": {},
   "outputs": [
    {
     "name": "stdout",
     "output_type": "stream",
     "text": [
      "Graph and capacities were INITIALIZED\n",
      "Transactions simulated on original graph STARTED..\n",
      "Transactions simulated on original graph DONE\n",
      "Transaction succes rate:\n",
      "True     0.601401\n",
      "False    0.398599\n",
      "Name: success, dtype: float64\n",
      "Graph and capacities were INITIALIZED\n",
      "Transactions simulated on original graph STARTED..\n",
      "Transactions simulated on original graph DONE\n",
      "Transaction succes rate:\n",
      "True     0.5994\n",
      "False    0.4006\n",
      "Name: success, dtype: float64\n"
     ]
    }
   ],
   "source": [
    "shortest_paths, _, _, _ = sim.simulate(weight=None)\n",
    "cheapest_paths, _, _, _ = sim.simulate(weight=\"total_fee\")"
   ]
  },
  {
   "cell_type": "markdown",
   "metadata": {},
   "source": [
    "#### Filter out payments that could not be routed (they are denoted with `length==-1`)\n",
    "\n",
    "Then observe the average path length for the simulated payments"
   ]
  },
  {
   "cell_type": "code",
   "execution_count": 26,
   "metadata": {},
   "outputs": [
    {
     "name": "stdout",
     "output_type": "stream",
     "text": [
      "2.4200861482656992\n",
      "3.0\n"
     ]
    }
   ],
   "source": [
    "print(shortest_paths[shortest_paths[\"length\"]>0][\"length\"].mean())\n",
    "print(cheapest_paths[cheapest_paths[\"length\"]>0][\"length\"].mean())"
   ]
  },
  {
   "cell_type": "markdown",
   "metadata": {},
   "source": [
    "### Node removal\n",
    "\n",
    "You can observe the effects of node removals as well by providing a list of LN node public keys. In this case every channel adjacent to the given nodes will be removed during payment simulation. \n",
    "\n",
    "**In this example we exclude the top 5 nodes with highest routing income**"
   ]
  },
  {
   "cell_type": "code",
   "execution_count": 27,
   "metadata": {},
   "outputs": [
    {
     "name": "stdout",
     "output_type": "stream",
     "text": [
      "Graph and capacities were INITIALIZED\n",
      "Transactions simulated on original graph STARTED..\n",
      "Transactions simulated on original graph DONE\n",
      "Transaction succes rate:\n",
      "True     0.600257\n",
      "False    0.399743\n",
      "Name: success, dtype: float64\n",
      "Succes rate BEFORE exclusion: 0.6002572531084751\n"
     ]
    }
   ],
   "source": [
    "_, _, all_router_fees, _ = sim.simulate(weight=\"total_fee\")\n",
    "print(\"Succes rate BEFORE exclusion:\", sim.transactions[\"success\"].mean())"
   ]
  },
  {
   "cell_type": "code",
   "execution_count": 28,
   "metadata": {},
   "outputs": [
    {
     "name": "stdout",
     "output_type": "stream",
     "text": [
      "node\n",
      "0232e20e7b68b9b673fb25f48322b151a93186bffe4550045040673797ceca43cf    10818.0\n",
      "03e50492eab4107a773141bb419e107bda3de3d55652e6e1a41225f06a0bbf2d56     3624.0\n",
      "0279c22ed7a068d10dc1a38ae66d2d6461e269226c60258c021b1ddcdfe4b00bc4     3180.0\n",
      "03d37fca0656558de4fd86bbe490a38d84a46228e7ec1361801f54f9437a18d618     1098.0\n",
      "032679fec1213e5b0a23e066c019d7b991b95c6e4d28806b9ebd1362f9e32775cf     1067.5\n",
      "Name: fee, dtype: float64\n"
     ]
    }
   ],
   "source": [
    "top_5_stats = all_router_fees.groupby(\"node\")[\"fee\"].sum().sort_values(ascending=False).head(5)\n",
    "print(top_5_stats)\n",
    "top_5_nodes = list(top_5_stats.index)"
   ]
  },
  {
   "cell_type": "markdown",
   "metadata": {},
   "source": [
    "You can observe how the payment success rate dropped by removing 5 important routers"
   ]
  },
  {
   "cell_type": "code",
   "execution_count": 29,
   "metadata": {},
   "outputs": [
    {
     "name": "stdout",
     "output_type": "stream",
     "text": [
      "43325 3751\n",
      "Additional nodes were EXCLUDED!\n",
      "Graph and capacities were INITIALIZED\n",
      "Transactions simulated on original graph STARTED..\n",
      "Transactions simulated on original graph DONE\n",
      "Transaction succes rate:\n",
      "True     0.564099\n",
      "False    0.435901\n",
      "Name: success, dtype: float64\n",
      "Succes rate AFTER exclusion: 0.5640988995283693\n"
     ]
    }
   ],
   "source": [
    "_, _, _, _ = sim.simulate(weight=\"total_fee\", excluded=top_5_nodes)\n",
    "print(\"Succes rate AFTER exclusion:\", sim.transactions[\"success\"].mean())"
   ]
  },
  {
   "cell_type": "markdown",
   "metadata": {},
   "source": [
    "### Node capacity reduction\n",
    "\n",
    "You can observe the traffic changes for a node by reducing its capacity to a given fraction of its original value. \n",
    "\n",
    "**In this example we reduce capacity to 10% of the top 5 nodes with highest routing income. Then we compare their new income with the original.**"
   ]
  },
  {
   "cell_type": "code",
   "execution_count": 30,
   "metadata": {},
   "outputs": [
    {
     "name": "stdout",
     "output_type": "stream",
     "text": [
      "Capacity change executed: (['0232e20e7b68b9b673fb25f48322b151a93186bffe4550045040673797ceca43cf', '03e50492eab4107a773141bb419e107bda3de3d55652e6e1a41225f06a0bbf2d56', '0279c22ed7a068d10dc1a38ae66d2d6461e269226c60258c021b1ddcdfe4b00bc4', '03d37fca0656558de4fd86bbe490a38d84a46228e7ec1361801f54f9437a18d618', '032679fec1213e5b0a23e066c019d7b991b95c6e4d28806b9ebd1362f9e32775cf'], 0.1000)\n",
      "Graph and capacities were INITIALIZED\n",
      "Transactions simulated on original graph STARTED..\n",
      "Transactions simulated on original graph DONE\n",
      "Transaction succes rate:\n",
      "True     0.591396\n",
      "False    0.408604\n",
      "Name: success, dtype: float64\n",
      "Succes rate AFTER capacity reduction: 0.5913963127054452\n"
     ]
    }
   ],
   "source": [
    "_, _, reduced_fees, _ = sim.simulate(weight=\"total_fee\", cap_change_nodes=top_5_nodes, capacity_fraction=0.1)\n",
    "print(\"Succes rate AFTER capacity reduction:\", sim.transactions[\"success\"].mean())"
   ]
  },
  {
   "cell_type": "code",
   "execution_count": 31,
   "metadata": {},
   "outputs": [
    {
     "name": "stdout",
     "output_type": "stream",
     "text": [
      "                                                node  fee_old  fee_new\n",
      "0  0232e20e7b68b9b673fb25f48322b151a93186bffe4550...  10818.0   3005.0\n",
      "1  03e50492eab4107a773141bb419e107bda3de3d55652e6...   3624.0   2416.0\n",
      "2  0279c22ed7a068d10dc1a38ae66d2d6461e269226c6025...   3180.0    900.0\n",
      "3  03d37fca0656558de4fd86bbe490a38d84a46228e7ec13...   1098.0    732.0\n",
      "4  032679fec1213e5b0a23e066c019d7b991b95c6e4d2880...   1067.5   1037.0\n"
     ]
    }
   ],
   "source": [
    "new_stats = reduced_fees.groupby(\"node\")[\"fee\"].sum()\n",
    "old_and_new = top_5_stats.reset_index().merge(new_stats.reset_index(), on=\"node\", how=\"left\", suffixes=(\"_old\",\"_new\"))\n",
    "print(old_and_new.fillna(0.0))"
   ]
  },
  {
   "cell_type": "markdown",
   "metadata": {},
   "source": [
    "## Longer path (genetic) routing\n",
    "\n",
    "In our [paper](https://arxiv.org/abs/1911.09432) we proposed a genetic algorithm to find cheap paths with at least a given length (`required_length` parameter). By default genetic routing is disabled (`required_length=None`). \n",
    "\n",
    "**We note that..** \n",
    "\n",
    "- using a higher value for `required_length` could increase the running time significantly.\n",
    "- payment paths with length 1 (direct channels) won't be forced to longer as with zero intermediary node there is no privacy issue here\n",
    "- if the genetic algorithm cannot find a path with the required length then it will return a path that is lower than this bound\n",
    "\n",
    "**In this example we will observe the path length distribution for different values of the `required_length` parameter**"
   ]
  },
  {
   "cell_type": "code",
   "execution_count": 32,
   "metadata": {},
   "outputs": [
    {
     "name": "stdout",
     "output_type": "stream",
     "text": [
      "Graph and capacities were INITIALIZED\n",
      "Transactions simulated on original graph STARTED..\n",
      "[]\n",
      "Transactions simulated on original graph DONE\n",
      "Transaction succes rate:\n",
      "True     0.594255\n",
      "False    0.405745\n",
      "Name: success, dtype: float64\n",
      "2\n",
      "Graph and capacities were INITIALIZED\n",
      "Transactions simulated on original graph STARTED..\n",
      "[(0, 1368), (-1, 14), (1, 2)]\n",
      "Transactions simulated on original graph DONE\n",
      "Transaction succes rate:\n",
      "True     0.601544\n",
      "False    0.398456\n",
      "Name: success, dtype: float64\n",
      "3\n",
      "Graph and capacities were INITIALIZED\n",
      "Transactions simulated on original graph STARTED..\n",
      "[(0, 2222), (1, 553), (2, 212), (-1, 20), (3, 17), (4, 1)]\n",
      "Transactions simulated on original graph DONE\n",
      "Transaction succes rate:\n",
      "True     0.601401\n",
      "False    0.398599\n",
      "Name: success, dtype: float64\n",
      "4\n"
     ]
    }
   ],
   "source": [
    "sim_for_routing = ts.TransactionSimulator(directed_edges, providers, amount, count)\n",
    "\n",
    "min_path_l = [2,3,4]\n",
    "length_distrib_map = {}\n",
    "\n",
    "for length_value in min_path_l:\n",
    "    cheapest_paths, _, _, _ = sim.simulate(weight=\"total_fee\", required_length=length_value)\n",
    "    length_distrib_map[length_value] = cheapest_paths[\"length\"].value_counts()\n",
    "    print(length_value)"
   ]
  },
  {
   "cell_type": "markdown",
   "metadata": {},
   "source": [
    "Observe the fraction of path with a given length (rows). The columns represent values of the `required_length` parameter. **The fraction of path in (3,3) and (4,4) cell of the heatmap are indeed high due to longer path routing.** We note that the row with index -1 represent the fraction of failed payments."
   ]
  },
  {
   "cell_type": "code",
   "execution_count": 33,
   "metadata": {},
   "outputs": [
    {
     "data": {
      "text/plain": [
       "<matplotlib.axes._subplots.AxesSubplot at 0x7fc1b2319dc0>"
      ]
     },
     "execution_count": 33,
     "metadata": {},
     "output_type": "execute_result"
    },
    {
     "data": {
      "image/png": "[encoded data removed]",
      "text/plain": [
       "<Figure size 432x288 with 2 Axes>"
      ]
     },
     "metadata": {
      "needs_background": "light"
     },
     "output_type": "display_data"
    }
   ],
   "source": [
    "import seaborn as sns\n",
    "\n",
    "distrib_df = pd.DataFrame(length_distrib_map)\n",
    "distrib_df = distrib_df / distrib_df.sum()\n",
    "sns.heatmap(distrib_df.loc[[-1,1,2,3,4]], cmap=\"coolwarm\", annot=True)"
   ]
  },
  {
   "cell_type": "markdown",
   "metadata": {},
   "source": [
    "## Base fee optimization\n",
    "\n",
    "In the Lightning Network data that we observed more than 60\\% of the nodes charged the default base fee. From a node's position in the network `lnsimulator` can estimate the base fee increment needed to achieve optimal routing by setting `with_node_removals=True` and calling `calc_optimal_base_fee` function afterwards. **For now optimal base fee search is enabled only for cheapest path routing (`weight=\"total_fee`). We also recommend you apply parallelization by setting a higher value for the `max_threads` parameter.**"
   ]
  },
  {
   "cell_type": "code",
   "execution_count": 34,
   "metadata": {},
   "outputs": [
    {
     "name": "stdout",
     "output_type": "stream",
     "text": [
      "Graph and capacities were INITIALIZED\n",
      "Transactions simulated on original graph STARTED..\n",
      "Transactions simulated on original graph DONE\n",
      "Transaction succes rate:\n",
      "True     0.602201\n",
      "False    0.397799\n",
      "Name: success, dtype: float64\n",
      "Base fee optimization STARTED..\n",
      "Parallel execution on 2 threads in progress..\n"
     ]
    },
    {
     "name": "stderr",
     "output_type": "stream",
     "text": [
      "\r",
      "  0%|          | 0/503 [00:00<?, ?it/s]"
     ]
    },
    {
     "name": "stdout",
     "output_type": "stream",
     "text": [
      "Base fee optimization DONE\n"
     ]
    },
    {
     "name": "stderr",
     "output_type": "stream",
     "text": [
      "\r",
      "100%|██████████| 503/503 [00:04<00:00, 109.02it/s]"
     ]
    },
    {
     "name": "stdout",
     "output_type": "stream",
     "text": [
      "                                                node  total_income  \\\n",
      "0  0232e20e7b68b9b673fb25f48322b151a93186bffe4550...        4808.0   \n",
      "1  03e50492eab4107a773141bb419e107bda3de3d55652e6...        3020.0   \n",
      "2  0279c22ed7a068d10dc1a38ae66d2d6461e269226c6025...        1500.0   \n",
      "3  032679fec1213e5b0a23e066c019d7b991b95c6e4d2880...        1311.5   \n",
      "4  0390b5d4492dc2f5318e5233ab2cebf6d48914881a33ef...        1006.5   \n",
      "\n",
      "   total_traffic  failed_traffic_ratio  opt_delta  income_diff  \n",
      "0              8              0.750000        0.0          0.0  \n",
      "1             20              0.600000        0.0          0.0  \n",
      "2             25              0.680000        0.0          0.0  \n",
      "3             43              0.162791        0.0          0.0  \n",
      "4             33              0.242424        0.0          0.0  \n"
     ]
    },
    {
     "name": "stderr",
     "output_type": "stream",
     "text": [
      "\n"
     ]
    }
   ],
   "source": [
    "sim_fee_opt = ts.TransactionSimulator(directed_edges, providers, amount, count)\n",
    "shortest_paths, alternative_paths, all_router_fees, _ = sim_fee_opt.simulate(weight=\"total_fee\", with_node_removals=True, max_threads=2)\n",
    "opt_fee_df, _ = ts.calc_optimal_base_fee(shortest_paths, alternative_paths, all_router_fees)\n",
    "print(opt_fee_df.head())"
   ]
  },
  {
   "cell_type": "markdown",
   "metadata": {},
   "source": [
    "The result of `calc_optimal_base_fee` contains the following informations.\n",
    "\n",
    "| Column | Description |\n",
    "|     :---      |   :---   |\n",
    "| node | LN node public key |\n",
    "| total_income | routing income |\n",
    "| total_traffic | number of routed transactions |\n",
    "| failed_traffic_ratio | ratio of failed transactions out of `total_traffic` payments if `node` is removed from LN  |\n",
    "| opt_delta | estimated optimal increase in base fee |\n",
    "| income_diff | estimated increase in daily routing income after applying optimal base fee increment |\n",
    "\n",
    "In the next step we transform the `opt_delta` column into a categorical feature that represent the increment magnitude."
   ]
  },
  {
   "cell_type": "code",
   "execution_count": 35,
   "metadata": {},
   "outputs": [
    {
     "name": "stdout",
     "output_type": "stream",
     "text": [
      "The magnitude distribution of base fee increments:\n",
      "0    325\n",
      "2    107\n",
      "1    101\n",
      "3     18\n",
      "Name: opt_delta, dtype: int64\n"
     ]
    }
   ],
   "source": [
    "def to_category(x):\n",
    "    if x > 100:\n",
    "        return 3\n",
    "    elif x > 10:\n",
    "        return 2\n",
    "    elif x > 0:\n",
    "        return 1\n",
    "    else:\n",
    "        return 0\n",
    "    \n",
    "print(\"The magnitude distribution of base fee increments:\")\n",
    "print(opt_fee_df[\"opt_delta\"].apply(to_category).value_counts())"
   ]
  }
 ],
 "metadata": {
  "kernelspec": {
   "display_name": "coinbase",
   "language": "python",
   "name": "coinbase"
  },
  "language_info": {
   "codemirror_mode": {
    "name": "ipython",
    "version": 3
   },
   "file_extension": ".py",
   "mimetype": "text/x-python",
   "name": "python",
   "nbconvert_exporter": "python",
   "pygments_lexer": "ipython3",
   "version": "3.8.3"
  }
 },
 "nbformat": 4,
 "nbformat_minor": 4
}
