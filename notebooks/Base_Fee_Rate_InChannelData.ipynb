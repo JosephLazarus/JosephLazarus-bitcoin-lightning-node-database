{
 "cells": [
  {
   "cell_type": "code",
   "execution_count": 20,
   "id": "328743e4",
   "metadata": {},
   "outputs": [],
   "source": [
    "import pandas as pd\n",
    "import matplotlib.pyplot as plt\n",
    "import numpy as np\n",
    "import seaborn as sb\n",
    "from scipy import stats"
   ]
  },
  {
   "cell_type": "code",
   "execution_count": 2,
   "id": "44832283",
   "metadata": {},
   "outputs": [],
   "source": [
    "import psycopg2\n",
    "from psycopg2 import Error"
   ]
  },
  {
   "cell_type": "code",
   "execution_count": 3,
   "id": "2cddc727",
   "metadata": {},
   "outputs": [
    {
     "name": "stdout",
     "output_type": "stream",
     "text": [
      "PostgreSQL server information\n",
      "{'user': 'postgres', 'channel_binding': 'prefer', 'dbname': 'InChannel0629', 'host': '127.0.0.1', 'port': '5432', 'tty': '', 'options': '', 'sslmode': 'prefer', 'sslcompression': '0', 'ssl_min_protocol_version': 'TLSv1.2', 'gssencmode': 'prefer', 'krbsrvname': 'postgres', 'target_session_attrs': 'any'} \n",
      "\n",
      "You are connected to -  ('PostgreSQL 13.3 on x86_64-apple-darwin, compiled by Apple clang version 11.0.3 (clang-1103.0.32.59), 64-bit',) \n",
      "\n",
      "PostgreSQL connection is closed\n"
     ]
    }
   ],
   "source": [
    "try:\n",
    "    # Connect to an existing database\n",
    "    connection = psycopg2.connect(user=\"postgres\",\n",
    "                                  password=\"Pung\",\n",
    "                                  host=\"127.0.0.1\",\n",
    "                                  port=\"5432\",\n",
    "                                  database=\"InChannel0629\")\n",
    "\n",
    "    # Create a cursor to perform database operations\n",
    "    cursor = connection.cursor()\n",
    "    # Print PostgreSQL details\n",
    "    print(\"PostgreSQL server information\")\n",
    "    print(connection.get_dsn_parameters(), \"\\n\")\n",
    "    # Executing a SQL query\n",
    "    cursor.execute(\"SELECT version();\")\n",
    "    # Fetch result\n",
    "    record = cursor.fetchone()\n",
    "    print(\"You are connected to - \", record, \"\\n\")\n",
    "    \n",
    "    def create_pandas_table(sql_query, database = connection):\n",
    "        table = pd.read_sql_query(sql_query, database)\n",
    "        return table\n",
    "\n",
    "    policies = create_pandas_table(\"SELECT * FROM policies\")\n",
    "    \n",
    "except (Exception, Error) as error:\n",
    "    print(\"Error while connecting to PostgreSQL\", error)\n",
    "finally:\n",
    "    if (connection):\n",
    "        cursor.close()\n",
    "        connection.close()\n",
    "        print(\"PostgreSQL connection is closed\")"
   ]
  },
  {
   "cell_type": "code",
   "execution_count": 4,
   "id": "082b0200",
   "metadata": {},
   "outputs": [
    {
     "data": {
      "text/plain": [
       "(892405, 6)"
      ]
     },
     "execution_count": 4,
     "metadata": {},
     "output_type": "execute_result"
    }
   ],
   "source": [
    "policies.shape"
   ]
  },
  {
   "cell_type": "code",
   "execution_count": 5,
   "id": "240db8ce",
   "metadata": {},
   "outputs": [
    {
     "data": {
      "text/html": [
       "<div>\n",
       "<style scoped>\n",
       "    .dataframe tbody tr th:only-of-type {\n",
       "        vertical-align: middle;\n",
       "    }\n",
       "\n",
       "    .dataframe tbody tr th {\n",
       "        vertical-align: top;\n",
       "    }\n",
       "\n",
       "    .dataframe thead th {\n",
       "        text-align: right;\n",
       "    }\n",
       "</style>\n",
       "<table border=\"1\" class=\"dataframe\">\n",
       "  <thead>\n",
       "    <tr style=\"text-align: right;\">\n",
       "      <th></th>\n",
       "      <th>short_channel_id</th>\n",
       "      <th>direction</th>\n",
       "      <th>base_fee_millisatoshi</th>\n",
       "      <th>fee_per_millionth</th>\n",
       "      <th>delay</th>\n",
       "      <th>update_time</th>\n",
       "    </tr>\n",
       "  </thead>\n",
       "  <tbody>\n",
       "    <tr>\n",
       "      <th>0</th>\n",
       "      <td>505149x622x0</td>\n",
       "      <td>1</td>\n",
       "      <td>1000.0</td>\n",
       "      <td>10.0</td>\n",
       "      <td>14</td>\n",
       "      <td>2019-07-15 08:33:54</td>\n",
       "    </tr>\n",
       "    <tr>\n",
       "      <th>1</th>\n",
       "      <td>505149x622x0</td>\n",
       "      <td>0</td>\n",
       "      <td>1000.0</td>\n",
       "      <td>10.0</td>\n",
       "      <td>14</td>\n",
       "      <td>2019-08-08 16:52:22</td>\n",
       "    </tr>\n",
       "    <tr>\n",
       "      <th>2</th>\n",
       "      <td>513675x2245x0</td>\n",
       "      <td>1</td>\n",
       "      <td>1000.0</td>\n",
       "      <td>10.0</td>\n",
       "      <td>14</td>\n",
       "      <td>2019-03-18 04:23:01</td>\n",
       "    </tr>\n",
       "    <tr>\n",
       "      <th>3</th>\n",
       "      <td>513675x2245x0</td>\n",
       "      <td>0</td>\n",
       "      <td>1000.0</td>\n",
       "      <td>1.0</td>\n",
       "      <td>144</td>\n",
       "      <td>2019-08-17 03:10:02</td>\n",
       "    </tr>\n",
       "    <tr>\n",
       "      <th>4</th>\n",
       "      <td>513887x1177x0</td>\n",
       "      <td>1</td>\n",
       "      <td>1000.0</td>\n",
       "      <td>1.0</td>\n",
       "      <td>144</td>\n",
       "      <td>2018-03-20 06:01:56</td>\n",
       "    </tr>\n",
       "  </tbody>\n",
       "</table>\n",
       "</div>"
      ],
      "text/plain": [
       "  short_channel_id  direction  base_fee_millisatoshi  fee_per_millionth  \\\n",
       "0     505149x622x0          1                 1000.0               10.0   \n",
       "1     505149x622x0          0                 1000.0               10.0   \n",
       "2    513675x2245x0          1                 1000.0               10.0   \n",
       "3    513675x2245x0          0                 1000.0                1.0   \n",
       "4    513887x1177x0          1                 1000.0                1.0   \n",
       "\n",
       "   delay         update_time  \n",
       "0     14 2019-07-15 08:33:54  \n",
       "1     14 2019-08-08 16:52:22  \n",
       "2     14 2019-03-18 04:23:01  \n",
       "3    144 2019-08-17 03:10:02  \n",
       "4    144 2018-03-20 06:01:56  "
      ]
     },
     "execution_count": 5,
     "metadata": {},
     "output_type": "execute_result"
    }
   ],
   "source": [
    "policies.head()"
   ]
  },
  {
   "cell_type": "code",
   "execution_count": 12,
   "id": "71b6bb09",
   "metadata": {},
   "outputs": [
    {
     "data": {
      "image/png": "[encoded data removed]",
      "text/plain": [
       "<Figure size 432x288 with 1 Axes>"
      ]
     },
     "metadata": {
      "needs_background": "light"
     },
     "output_type": "display_data"
    }
   ],
   "source": [
    "plt.hist(policies['base_fee_millisatoshi'], \n",
    "         100, \n",
    "         range=[0, 8000], \n",
    "         facecolor='gray', \n",
    "         align='mid')\n",
    "plt.title('Distribution of Routing Base Fee Rates of Lightning Network Payment Channels')\n",
    "plt.yscale('log')\n",
    "plt.ylabel('# of Channels with Certain Base Fee Rate')\n",
    "plt.xlabel('Base Fee Rate (Millisatoshi)')\n",
    "plt.show()"
   ]
  },
  {
   "cell_type": "code",
   "execution_count": 42,
   "id": "1ae2e019",
   "metadata": {},
   "outputs": [
    {
     "data": {
      "image/png": "[encoded data removed]",
      "text/plain": [
       "<Figure size 432x288 with 1 Axes>"
      ]
     },
     "metadata": {
      "needs_background": "light"
     },
     "output_type": "display_data"
    }
   ],
   "source": [
    "plt.hist(policies['base_fee_millisatoshi'], \n",
    "         100, \n",
    "         range=[0, 8000], \n",
    "         facecolor='gray', \n",
    "         alpha=.5,\n",
    "         cumulative=True)\n",
    "plt.title('Cumulative Distribution of Routing Base Fee Rates of Lightning Network Payment Channels')\n",
    "#plt.yscale('log')\n",
    "plt.ylabel('# of Channels with Certain Base Fee Rate')\n",
    "plt.xlabel('Base Fee Rate (Millisatoshi)')\n",
    "plt.show()"
   ]
  },
  {
   "cell_type": "code",
   "execution_count": 45,
   "id": "4a853638",
   "metadata": {},
   "outputs": [],
   "source": [
    "# Filtered data for only Direction = 1\n",
    "policies_direction1 = policies[policies['direction'] == 1]"
   ]
  },
  {
   "cell_type": "code",
   "execution_count": 46,
   "id": "0d6bdaee",
   "metadata": {},
   "outputs": [
    {
     "data": {
      "image/png": "[encoded data removed]",
      "text/plain": [
       "<Figure size 432x288 with 1 Axes>"
      ]
     },
     "metadata": {
      "needs_background": "light"
     },
     "output_type": "display_data"
    }
   ],
   "source": [
    "plt.hist(policies_direction1['base_fee_millisatoshi'], \n",
    "         100, \n",
    "         range=[0, 8000], \n",
    "         facecolor='gray', \n",
    "         align='mid')\n",
    "plt.title('Distribution of Routing Base Fee Rates of Lightning Network Payment Channels')\n",
    "plt.yscale('log')\n",
    "plt.ylabel('# of Channels with Certain Base Fee Rate')\n",
    "plt.xlabel('Base Fee Rate (Millisatoshi)')\n",
    "plt.show()"
   ]
  }
 ],
 "metadata": {
  "kernelspec": {
   "display_name": "Python 3",
   "language": "python",
   "name": "python3"
  },
  "language_info": {
   "codemirror_mode": {
    "name": "ipython",
    "version": 3
   },
   "file_extension": ".py",
   "mimetype": "text/x-python",
   "name": "python",
   "nbconvert_exporter": "python",
   "pygments_lexer": "ipython3",
   "version": "3.9.5"
  }
 },
 "nbformat": 4,
 "nbformat_minor": 5
}
